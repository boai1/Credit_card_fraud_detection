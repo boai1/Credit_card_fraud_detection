{
 "cells": [
  {
   "cell_type": "code",
   "execution_count": 1,
   "metadata": {},
   "outputs": [],
   "source": [
    "import pandas as pd\n",
    "import config\n",
    "from sklearn import metrics\n",
    "from training_pipeline import train_pipeline\n",
    "import pickle\n",
    "import warnings\n",
    "warnings.filterwarnings(\"ignore\")\n"
   ]
  },
  {
   "cell_type": "code",
   "execution_count": 2,
   "metadata": {},
   "outputs": [],
   "source": [
    "train_df = pd.read_csv(config.TRAINING_DATA)\n",
    "test_df = pd.read_csv(config.TEST_DATA)"
   ]
  },
  {
   "cell_type": "code",
   "execution_count": 1,
   "metadata": {},
   "outputs": [],
   "source": [
    "# train the model\n",
    "for k in range(5):\n",
    "    for model in ['logistic_regression','random_forest','xgb']:\n",
    "        train_pipeline(k, model, train_df, test_df)\n",
    "        print(f\"finished: model = {model}, kfold={k}\")"
   ]
  },
  {
   "cell_type": "code",
   "execution_count": 5,
   "metadata": {},
   "outputs": [],
   "source": [
    "preds = {\n",
    "    \"xgb\":[],\n",
    "    \"logistic_regression\":[],\n",
    "    \"random_forest\":[]\n",
    "}\n",
    "y_vals = {\n",
    "    \"xgb\":[],\n",
    "    \"logistic_regression\":[],\n",
    "    \"random_forest\":[]\n",
    "}\n",
    "\n",
    "\n",
    "for k in range(5):\n",
    "    for model in ['logistic_regression','random_forest', 'xgb']:\n",
    "        for res_type in ['pred_fold_','y_val_']:\n",
    "            path = r'D:\\Freelancing Projects\\entry portfolio\\fraud detection\\models/' + model + '/' + res_type + str(k)\n",
    "            with (open(path, \"rb\")) as openfile:\n",
    "                while True:\n",
    "                    try:\n",
    "                        if res_type == 'pred_fold_':\n",
    "                            preds[model].append(pickle.load(openfile))\n",
    "                        else: \n",
    "                            y_vals[model].append(pickle.load(openfile))\n",
    "                    except EOFError:\n",
    "                        break"
   ]
  },
  {
   "cell_type": "code",
   "execution_count": 7,
   "metadata": {},
   "outputs": [
    {
     "name": "stdout",
     "output_type": "stream",
     "text": [
      "======= XGB ========\n",
      "0.9777410697397004\n",
      "======= XGB ========\n",
      "0.9777410697397004\n",
      "======= XGB ========\n",
      "0.9777410697397004\n",
      "======= XGB ========\n",
      "0.9777410697397004\n",
      "======= XGB ========\n",
      "0.9777410697397004\n",
      "======= logistic_regression ========\n",
      "0.7569572745620124\n",
      "======= logistic_regression ========\n",
      "0.7569572745620124\n",
      "======= logistic_regression ========\n",
      "0.7569572745620124\n",
      "======= logistic_regression ========\n",
      "0.7569572745620124\n",
      "======= logistic_regression ========\n",
      "0.7569572745620124\n",
      "======= random_forest ========\n",
      "0.9653257917165636\n",
      "======= random_forest ========\n",
      "0.9660303903142753\n",
      "======= random_forest ========\n",
      "0.9654432317394057\n",
      "======= random_forest ========\n",
      "0.9656623268357831\n",
      "======= random_forest ========\n",
      "0.9653649466987124\n"
     ]
    }
   ],
   "source": [
    "for k in range(5):\n",
    "    print(\"======= XGB ========\")\n",
    "    print(metrics.roc_auc_score(y_vals[\"xgb\"][k], preds[\"xgb\"][k]))\n",
    "\n",
    "for k in range(5):\n",
    "    print(\"======= logistic_regression ========\")\n",
    "    print(metrics.roc_auc_score(y_vals[\"logistic_regression\"][k], preds[\"logistic_regression\"][k]))\n",
    "\n",
    "for k in range(5):\n",
    "    print(\"======= random_forest ========\")\n",
    "    print(metrics.roc_auc_score(y_vals[\"random_forest\"][k], preds[\"random_forest\"][k]))"
   ]
  },
  {
   "cell_type": "code",
   "execution_count": null,
   "metadata": {},
   "outputs": [],
   "source": []
  }
 ],
 "metadata": {
  "kernelspec": {
   "display_name": "Python 3",
   "language": "python",
   "name": "python3"
  },
  "language_info": {
   "codemirror_mode": {
    "name": "ipython",
    "version": 3
   },
   "file_extension": ".py",
   "mimetype": "text/x-python",
   "name": "python",
   "nbconvert_exporter": "python",
   "pygments_lexer": "ipython3",
   "version": "3.9.0"
  },
  "orig_nbformat": 4
 },
 "nbformat": 4,
 "nbformat_minor": 2
}
